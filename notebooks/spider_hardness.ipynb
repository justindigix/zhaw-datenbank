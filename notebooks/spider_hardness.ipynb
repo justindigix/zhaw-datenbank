{
 "cells": [
  {
   "cell_type": "code",
   "execution_count": 1,
   "metadata": {},
   "outputs": [],
   "source": [
    "from spider.test_suite_eval.process_sql import get_schema_from_json, get_sql\n",
    "from spider.test_suite_eval.schema import build_schema_mapping, SchemaIndex\n",
    "from spider.test_suite_eval.evaluation import Evaluator\n",
    "import json\n",
    "with open('data/oncomx/original/tables.json', 'r') as inf:\n",
    "    schema_dict = json.load(inf)[0]\n"
   ]
  },
  {
   "cell_type": "code",
   "execution_count": 2,
   "metadata": {},
   "outputs": [
    {
     "data": {
      "text/plain": [
       "dict_keys(['column_names', 'column_names_original', 'column_types', 'db_id', 'foreign_keys', 'primary_keys', 'table_names', 'table_names_original'])"
      ]
     },
     "execution_count": 2,
     "metadata": {},
     "output_type": "execute_result"
    }
   ],
   "source": [
    "schema_dict.keys()"
   ]
  },
  {
   "cell_type": "code",
   "execution_count": 3,
   "metadata": {},
   "outputs": [],
   "source": [
    "def get_hardness(query, evaluator, schema_dict):\n",
    "    schema_mapping = build_schema_mapping(schema_dict)\n",
    "    schema = SchemaIndex(\n",
    "        schema_mapping, schema_dict['column_names_original'], schema_dict['table_names_original'])\n",
    "    try:\n",
    "        spider_sql_structure, sql_tokenizer = get_sql(schema, query)\n",
    "        return evaluator.eval_hardness(spider_sql_structure)\n",
    "    except Exception as e:\n",
    "        return f\"\"\"Cannot parese SQL input. Please check your query again\\n\"\"\" \\\n",
    "               f\"\"\"Input: {query}\\nError: {e}\"\"\"\n",
    "    \n",
    "\n"
   ]
  },
  {
   "cell_type": "code",
   "execution_count": 5,
   "metadata": {},
   "outputs": [
    {
     "data": {
      "text/plain": [
       "'easy'"
      ]
     },
     "execution_count": 5,
     "metadata": {},
     "output_type": "execute_result"
    }
   ],
   "source": [
    "query = 'SELECT * FROM disease as d;'\n",
    "evaluator = Evaluator()\n",
    "res = get_hardness(query, evaluator, schema_dict)\n",
    "\n",
    "res"
   ]
  },
  {
   "cell_type": "code",
   "execution_count": null,
   "metadata": {},
   "outputs": [],
   "source": []
  }
 ],
 "metadata": {
  "kernelspec": {
   "display_name": "Python 3.9.9 64-bit ('zhaw-venv')",
   "language": "python",
   "name": "python3"
  },
  "language_info": {
   "codemirror_mode": {
    "name": "ipython",
    "version": 3
   },
   "file_extension": ".py",
   "mimetype": "text/x-python",
   "name": "python",
   "nbconvert_exporter": "python",
   "pygments_lexer": "ipython3",
   "version": "3.9.9"
  },
  "orig_nbformat": 4,
  "vscode": {
   "interpreter": {
    "hash": "ee90e28e24f847d64b5e2ab743e2358217aed04b10d52cb13ecbfbec1bc91846"
   }
  }
 },
 "nbformat": 4,
 "nbformat_minor": 2
}
